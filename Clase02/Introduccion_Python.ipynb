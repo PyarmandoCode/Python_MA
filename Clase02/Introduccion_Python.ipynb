{
 "cells": [
  {
   "cell_type": "markdown",
   "id": "e220c070",
   "metadata": {},
   "source": [
    "# Titulo Principal\n",
    "## Subtitulo\n",
    "Este es un Parrafo de texto normal  **enfatizar** texto,hacerlo *cursiva* o incluso ***ambas cosas***\n",
    "\n",
    "### Listas\n",
    "- Elemento 1\n",
    "- Elemento 2\n",
    "    - Subelemento A\n",
    "    - Subelemetno B\n",
    "### Enlaces\n",
    "\n",
    "[Enlace de Python](https://www.python.org)\n",
    "\n",
    "![Logo de Python](https://www.python.org/static/community_logos/python-logo-master-v3-TM.png)"
   ]
  },
  {
   "cell_type": "markdown",
   "id": "c154e3fd",
   "metadata": {},
   "source": [
    "# Tipo de datos en Python\n",
    "- numericos (int,float)\n",
    "- cadenas (str)\n",
    "- booleanos (bool)"
   ]
  },
  {
   "cell_type": "code",
   "execution_count": 1,
   "id": "3abfe5df",
   "metadata": {},
   "outputs": [
    {
     "data": {
      "text/plain": [
       "[7, 8, 9]"
      ]
     },
     "execution_count": 1,
     "metadata": {},
     "output_type": "execute_result"
    }
   ],
   "source": [
    "edad_persona = 24\n",
    "nombre_persona = \"Armando Ruiz\"\n",
    "sueldo_persona= 2700.89\n",
    "estado=True\n",
    "\n",
    "#print(type(edad_persona)) #Cual es el tipo de datos de la Variable #int\n",
    "#print(type(nombre_persona)) # str\n",
    "#print(type(sueldo_persona)) # float\n",
    "#print(type(estado)) # bool\n",
    "\n",
    "\"\"\"\n",
    "Estructura de Datos\n",
    "\"\"\"\n",
    "productos=[\"LAPTOP\",\"SMARTHPHONE\",\"MONITOR\",\"TECLADO\"] #List\n",
    "#productos[2]\n",
    "productos.append(\"PARLANTE\")#Añade un elemento al final de la lista\n",
    "productos.insert(2,\"CPU\") #Añade un elemento en la posicion indicada lista\n",
    "\n",
    "productos.pop(0) #Elimina un elemento de la lista por su indice\n",
    "productos.remove(\"TECLADO\") #Elimina por su valor \"nom\"\n",
    "\n",
    "productos[0]=\"CAMARA\"\n",
    "#productos\n",
    "#\"SLICING\"\n",
    "numeros = [0, 1, 2, 3, 4, 5, 6, 7, 8, 9]\n",
    "primero_tres=numeros[0:3]\n",
    "desde_el_dos_al_final = numeros[2:]\n",
    "hasta_el_cinco=numeros[:5] #EXCLUIDO\n",
    "el_valor_final=numeros[-3:]\n",
    "el_valor_final"
   ]
  },
  {
   "cell_type": "markdown",
   "id": "561d1a23",
   "metadata": {},
   "source": [
    "![Variables](variables.png)"
   ]
  },
  {
   "cell_type": "markdown",
   "id": "9dd9a6d0",
   "metadata": {},
   "source": [
    "![Variables](instruccion_if.png)"
   ]
  },
  {
   "cell_type": "code",
   "execution_count": 7,
   "id": "537ab20d",
   "metadata": {},
   "outputs": [
    {
     "name": "stdout",
     "output_type": "stream",
     "text": [
      "Ingrese el precio del producto:1100\n",
      "El Producto tiene un descuento del 20%\n"
     ]
    }
   ],
   "source": [
    "precio = int(input(\"Ingrese el precio del producto:\"))\n",
    "#type(precio)\n",
    "if precio>1000:\n",
    "    print(\"El Producto tiene un descuento del 20%\")\n",
    "else:\n",
    "    print(\"El Producto aun no tiene descuento\")"
   ]
  },
  {
   "cell_type": "code",
   "execution_count": 10,
   "id": "52408296",
   "metadata": {},
   "outputs": [
    {
     "name": "stdout",
     "output_type": "stream",
     "text": [
      "Ingrese el precio del producto:1800\n",
      "No tiene descuento\n"
     ]
    }
   ],
   "source": [
    "precio = int(input(\"Ingrese el precio del producto:\"))\n",
    "if precio >1000 and precio <=1600:\n",
    "    print(\"Tiene un descuento del 10%\")\n",
    "elif precio >500 and precio <1000:\n",
    "    print(\"Tiene un descuento del 5%\")\n",
    "elif precio >499 and precio <100:\n",
    "    print(\"Tiene un descuento del 2%\")\n",
    "else:\n",
    "    print(\"No tiene descuento\")"
   ]
  },
  {
   "cell_type": "markdown",
   "id": "07300e62",
   "metadata": {},
   "source": [
    "## Conversion de datos\n",
    "\n",
    "- int\n",
    "- str\n",
    "- float\n",
    "- bool"
   ]
  },
  {
   "cell_type": "code",
   "execution_count": 19,
   "id": "d9696332",
   "metadata": {},
   "outputs": [
    {
     "data": {
      "text/plain": [
       "int"
      ]
     },
     "execution_count": 19,
     "metadata": {},
     "output_type": "execute_result"
    }
   ],
   "source": [
    "edad_persona = 24\n",
    "nombre_persona = \"Armando Ruiz\"\n",
    "sueldo_persona= 2700.89\n",
    "estado=True\n",
    "\n",
    "#type(str(edad_persona)) #Cual es el tipo de datos de la Variable #int\n",
    "#type(nombre_persona) # str\n",
    "#type(int(sueldo_persona)) # float\n",
    "type(int(estado)) # bool"
   ]
  },
  {
   "cell_type": "code",
   "execution_count": 21,
   "id": "04c4853e",
   "metadata": {},
   "outputs": [
    {
     "data": {
      "text/plain": [
       "'Armando Ruiz24'"
      ]
     },
     "execution_count": 21,
     "metadata": {},
     "output_type": "execute_result"
    }
   ],
   "source": [
    "dato_persona = nombre_persona + str(edad_persona)\n",
    "dato_persona"
   ]
  },
  {
   "cell_type": "markdown",
   "id": "25da1e49",
   "metadata": {},
   "source": [
    "## Formato en Variables"
   ]
  },
  {
   "cell_type": "code",
   "execution_count": 27,
   "id": "a37b71a6",
   "metadata": {},
   "outputs": [
    {
     "name": "stdout",
     "output_type": "stream",
     "text": [
      "Ingrese el nombre del producto:Laptop\n",
      "Ingrese el precio del producto:1267.90\n",
      "Ingrese la cantidad del producto:2\n"
     ]
    },
    {
     "data": {
      "text/plain": [
       "'El Total a pagar por el producto Laptop  es 2485.08 y ha tenido un descuento de 50.72'"
      ]
     },
     "execution_count": 27,
     "metadata": {},
     "output_type": "execute_result"
    }
   ],
   "source": [
    "#Ingresos\n",
    "nombre = input(\"Ingrese el nombre del producto:\")\n",
    "precio = float(input(\"Ingrese el precio del producto:\"))\n",
    "cantidad = int(input(\"Ingrese la cantidad del producto:\"))\n",
    "\n",
    "#Calculo\n",
    "subtotal = precio * cantidad\n",
    "\n",
    "#Evaluacion\n",
    "if subtotal > 2000:\n",
    "    des = subtotal * 0.02\n",
    "else:\n",
    "    des =0\n",
    "\n",
    "total = subtotal - des        \n",
    "#Mostrando resultados\n",
    "f\"El Total a pagar por el producto {nombre}  es {round(total,3)} y ha tenido un descuento de {round(des,2)}\""
   ]
  },
  {
   "cell_type": "code",
   "execution_count": null,
   "id": "2a0e3b87",
   "metadata": {},
   "outputs": [],
   "source": []
  }
 ],
 "metadata": {
  "kernelspec": {
   "display_name": "Python 3 (ipykernel)",
   "language": "python",
   "name": "python3"
  },
  "language_info": {
   "codemirror_mode": {
    "name": "ipython",
    "version": 3
   },
   "file_extension": ".py",
   "mimetype": "text/x-python",
   "name": "python",
   "nbconvert_exporter": "python",
   "pygments_lexer": "ipython3",
   "version": "3.11.5"
  }
 },
 "nbformat": 4,
 "nbformat_minor": 5
}
