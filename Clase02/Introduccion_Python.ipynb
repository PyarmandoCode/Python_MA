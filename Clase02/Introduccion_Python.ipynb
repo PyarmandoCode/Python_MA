{
 "cells": [
  {
   "cell_type": "code",
   "execution_count": null,
   "id": "2df465f2",
   "metadata": {},
   "outputs": [],
   "source": [
    "\"\"\"\n",
    "TIPOS DE DATOS EN PYTHON\n",
    "\"\"\"\n",
    "edad_persona = 24\n",
    "nombre_persona = \"Armando Ruiz\"\n",
    "sueldo_persona= 2700.89\n",
    "estado=True\n",
    "\n",
    "#print(type(edad_persona)) #Cual es el tipo de datos de la Variable #int\n",
    "#print(type(nombre_persona)) # str\n",
    "#print(type(sueldo_persona)) # float\n",
    "#print(type(estado)) # bool\n",
    "\n",
    "\"\"\"\n",
    "Estructura de Datos\n",
    "\"\"\"\n",
    "productos=[\"LAPTOP\",\"SMARTHPHONE\",\"MONITOR\",\"TECLADO\"] #List\n",
    "#productos[2]\n",
    "productos.append(\"PARLANTE\")#Añade un elemento al final de la lista\n",
    "productos.insert(2,\"CPU\") #Añade un elemento en la posicion indicada lista\n",
    "\n",
    "productos.pop(0) #Elimina un elemento de la lista por su indice\n",
    "productos.remove(\"TECLADO\") #Elimina por su valor \"nom\"\n",
    "\n",
    "productos[0]=\"CAMARA\"\n",
    "#productos\n",
    "#\"SLICING\"\n",
    "numeros = [0, 1, 2, 3, 4, 5, 6, 7, 8, 9]\n",
    "primero_tres=numeros[0:3]\n",
    "desde_el_dos_al_final = numeros[2:]\n",
    "hasta_el_cinco=numeros[:5] #EXCLUIDO\n",
    "el_valor_final=numeros[-3:]\n",
    "el_valor_final"
   ]
  },
  {
   "cell_type": "code",
   "execution_count": null,
   "id": "6be825d3",
   "metadata": {},
   "outputs": [],
   "source": []
  }
 ],
 "metadata": {
  "kernelspec": {
   "display_name": "Python 3 (ipykernel)",
   "language": "python",
   "name": "python3"
  },
  "language_info": {
   "codemirror_mode": {
    "name": "ipython",
    "version": 3
   },
   "file_extension": ".py",
   "mimetype": "text/x-python",
   "name": "python",
   "nbconvert_exporter": "python",
   "pygments_lexer": "ipython3",
   "version": "3.11.5"
  }
 },
 "nbformat": 4,
 "nbformat_minor": 5
}
