{
 "cells": [
  {
   "cell_type": "markdown",
   "id": "4e036cb8",
   "metadata": {},
   "source": [
    "## Programacion Regular\n",
    "- Convertir de Grados Celsiuss a Farenhrit\n"
   ]
  },
  {
   "cell_type": "code",
   "execution_count": null,
   "id": "bf6fa3a9",
   "metadata": {},
   "outputs": [],
   "source": [
    "def funcion_c_f(c):\n",
    "    f=c*1.8+32\n",
    "    return f\n",
    "funcion_c_f(15)"
   ]
  },
  {
   "cell_type": "markdown",
   "id": "a363cd62",
   "metadata": {},
   "source": [
    "## Modelo Predectivo\n",
    "- Crear un Modelo Predicitivo de ML que aprenda a convertir de grados Celsius a Fahrenheit\n",
    "- Para el desarrollo de este modelo utilizaremos Keras del Modulo de Tensorflow\n",
    "  porque deseamos diseñar nuestrar red como una \"RED NEURAL\""
   ]
  },
  {
   "cell_type": "code",
   "execution_count": 1,
   "id": "d22b938b",
   "metadata": {},
   "outputs": [
    {
     "name": "stdout",
     "output_type": "stream",
     "text": [
      "WARNING:tensorflow:From C:\\Users\\Armando\\anaconda3\\Lib\\site-packages\\keras\\src\\losses.py:2976: The name tf.losses.sparse_softmax_cross_entropy is deprecated. Please use tf.compat.v1.losses.sparse_softmax_cross_entropy instead.\n",
      "\n"
     ]
    }
   ],
   "source": [
    "import tensorflow as tf\n",
    "import numpy as np"
   ]
  },
  {
   "cell_type": "code",
   "execution_count": 2,
   "id": "7b03bb3c",
   "metadata": {},
   "outputs": [],
   "source": [
    "#Declarar nuestras 7 entradas de grados de celsius\n",
    "celsius = np.array([-40,-10,0,8,15,22,38],dtype=float)\n",
    "#Declarar nuestros resultados en Grados farenheint\n",
    "farenheint= np.array([-40,14,32,46,59,72,100],dtype=float)\n",
    "#estos son los ejemplos que la red neuronal usara para aprender"
   ]
  },
  {
   "cell_type": "code",
   "execution_count": 3,
   "id": "52b8d299",
   "metadata": {},
   "outputs": [
    {
     "name": "stdout",
     "output_type": "stream",
     "text": [
      "WARNING:tensorflow:From C:\\Users\\Armando\\anaconda3\\Lib\\site-packages\\keras\\src\\backend.py:873: The name tf.get_default_graph is deprecated. Please use tf.compat.v1.get_default_graph instead.\n",
      "\n"
     ]
    }
   ],
   "source": [
    "#Diseñar nuestro modelo de red neuronal\n",
    "#capa=tf.keras.layers.Dense(units=1,input_shape=[1])\n",
    "oculta_1=tf.keras.layers.Dense(units=3,input_shape=[1])\n",
    "oculta_2=tf.keras.layers.Dense(units=3,input_shape=[1])\n",
    "salida=tf.keras.layers.Dense(units=1,input_shape=[1])\n",
    "\n",
    "#Las capas dense son las que tiene conexiones entre las neuronas\n",
    "#Las unidades son las neuronas que utilizare en mi capa\n",
    "#En La Variable input_shape debo especificar que tenemos una capa de entrada"
   ]
  },
  {
   "cell_type": "code",
   "execution_count": 4,
   "id": "2fc87557",
   "metadata": {},
   "outputs": [],
   "source": [
    "#Utilizaremos un modelo sequencial\n",
    "modelo=tf.keras.Sequential([oculta_1,oculta_2,salida])\n",
    "#Es una forma Lineal y simple de construir redes neuronales, donde las capas \n",
    "#se apilan una encima de otra"
   ]
  },
  {
   "cell_type": "code",
   "execution_count": 5,
   "id": "6465b2f3",
   "metadata": {},
   "outputs": [],
   "source": [
    "#Ahora creamos el modelo lo compilamos para luego entrenarlo\n",
    "#Adam permite a la red como saber ajustar los pesos y sesgos de manera eficiente\n",
    "#el numero 0.1 le indica la tasa de aprendizaje . si le ponemos un numero muy\n",
    "#pequeño los ira ajustando de manera lenta\n",
    "modelo.compile(\n",
    "    optimizer=tf.keras.optimizers.Adam(0.1),\n",
    "    loss='mean_squared_error'\n",
    ")\n",
    "#Ajustar el promedio de perdida de datos"
   ]
  },
  {
   "cell_type": "code",
   "execution_count": 6,
   "id": "31886ae3",
   "metadata": {},
   "outputs": [
    {
     "name": "stdout",
     "output_type": "stream",
     "text": [
      "Comenzado el entrenamiento....\n",
      "WARNING:tensorflow:From C:\\Users\\Armando\\anaconda3\\Lib\\site-packages\\keras\\src\\utils\\tf_utils.py:492: The name tf.ragged.RaggedTensorValue is deprecated. Please use tf.compat.v1.ragged.RaggedTensorValue instead.\n",
      "\n",
      "Modelo entrenado\n"
     ]
    }
   ],
   "source": [
    "#epochs le indica cuantas vueltas quiero que lo intente\n",
    "print(\"Comenzado el entrenamiento....\")\n",
    "historial=modelo.fit(celsius,farenheint,epochs=1000,verbose=False)\n",
    "print(\"Modelo entrenado\")"
   ]
  },
  {
   "cell_type": "code",
   "execution_count": 7,
   "id": "0b3b2cdd",
   "metadata": {},
   "outputs": [
    {
     "name": "stdout",
     "output_type": "stream",
     "text": [
      "1/1 [==============================] - 0s 97ms/step\n",
      "El resultado de nuestra prediccion [[211.7474]]\n"
     ]
    }
   ],
   "source": [
    "#Hagamos una prediccion\n",
    "resultado=modelo.predict([100.00])\n",
    "print(f\"El resultado de nuestra prediccion {resultado}\")"
   ]
  },
  {
   "cell_type": "code",
   "execution_count": 8,
   "id": "f2d4fdff",
   "metadata": {},
   "outputs": [],
   "source": [
    "import matplotlib.pyplot as plt"
   ]
  },
  {
   "cell_type": "code",
   "execution_count": 9,
   "id": "085e234b",
   "metadata": {},
   "outputs": [
    {
     "data": {
      "text/plain": [
       "[<matplotlib.lines.Line2D at 0x2eb232f1010>]"
      ]
     },
     "execution_count": 9,
     "metadata": {},
     "output_type": "execute_result"
    },
    {
     "data": {
      "image/png": "[encoded data removed]",
      "text/plain": [
       "<Figure size 640x480 with 1 Axes>"
      ]
     },
     "metadata": {},
     "output_type": "display_data"
    }
   ],
   "source": [
    "plt.xlabel(\"#Epoca\")\n",
    "plt.ylabel(\"Magnitud de Perdida\")\n",
    "plt.plot(historial.history[\"loss\"])"
   ]
  },
  {
   "cell_type": "code",
   "execution_count": 11,
   "id": "af00fd94",
   "metadata": {},
   "outputs": [
    {
     "name": "stdout",
     "output_type": "stream",
     "text": [
      "[array([[-0.34877694, -0.00342435,  0.8422477 ]], dtype=float32), array([-4.0154386,  2.9915798,  4.935664 ], dtype=float32)]\n"
     ]
    }
   ],
   "source": [
    "#imprimimos los resultados de perdida \n",
    "print(oculta_1.get_weights())"
   ]
  },
  {
   "cell_type": "code",
   "execution_count": null,
   "id": "2c845e27",
   "metadata": {},
   "outputs": [],
   "source": []
  }
 ],
 "metadata": {
  "kernelspec": {
   "display_name": "Python 3 (ipykernel)",
   "language": "python",
   "name": "python3"
  },
  "language_info": {
   "codemirror_mode": {
    "name": "ipython",
    "version": 3
   },
   "file_extension": ".py",
   "mimetype": "text/x-python",
   "name": "python",
   "nbconvert_exporter": "python",
   "pygments_lexer": "ipython3",
   "version": "3.11.5"
  }
 },
 "nbformat": 4,
 "nbformat_minor": 5
}
